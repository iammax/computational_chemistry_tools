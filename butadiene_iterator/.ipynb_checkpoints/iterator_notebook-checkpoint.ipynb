{
 "cells": [
  {
   "cell_type": "code",
   "execution_count": 1,
   "metadata": {},
   "outputs": [
    {
     "name": "stdout",
     "output_type": "stream",
     "text": [
      "angle_fixer.py         \u001b[0m\u001b[01;34mitergeo\u001b[0m/                 temp.txt\r\n",
      "angle_fixer.pyc        Me-2.xyz                 Transoid_all_frames.xyz\r\n",
      "angle_iterator.pyc     Me-_all_frames.xyz       Untitled.ipynb\r\n",
      "\u001b[01;34mbasegeo\u001b[0m/               Me+_all_frames.xyz       xyz_matrix_maker.py\r\n",
      "butadiene_iterator.sh  \u001b[01;34moriginal_CI_geometries\u001b[0m/  zmatconfig.txt\r\n",
      "fc.xyz                 periodic.py              z_matrix_maker.py\r\n",
      "iteration_maker.py     periodic.pyc\r\n",
      "iteration_maker.pyc    \u001b[01;34mresults\u001b[0m/\r\n"
     ]
    }
   ],
   "source": [
    "ls"
   ]
  },
  {
   "cell_type": "code",
   "execution_count": null,
   "metadata": {},
   "outputs": [],
   "source": []
  }
 ],
 "metadata": {
  "kernelspec": {
   "display_name": "Python 2",
   "language": "python",
   "name": "python2"
  },
  "language_info": {
   "codemirror_mode": {
    "name": "ipython",
    "version": 2
   },
   "file_extension": ".py",
   "mimetype": "text/x-python",
   "name": "python",
   "nbconvert_exporter": "python",
   "pygments_lexer": "ipython2",
   "version": "2.7.16"
  }
 },
 "nbformat": 4,
 "nbformat_minor": 2
}
