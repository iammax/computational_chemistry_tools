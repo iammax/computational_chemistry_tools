{
 "cells": [
  {
   "cell_type": "code",
   "execution_count": 10,
   "metadata": {},
   "outputs": [
    {
     "name": "stdout",
     "output_type": "stream",
     "text": [
      "10\n",
      "\n",
      "C        -1.71206       -0.32706        0.11160\n",
      "C        -0.30557       -0.48176        0.35394\n",
      "C         0.75752       -0.01615       -0.49967\n",
      "C         2.05157       -0.10807       -0.17313\n",
      "H        -2.06407        0.20018       -0.76653\n",
      "H        -2.42291       -0.66969        0.85372\n",
      "H        -0.03213       -0.98685        1.27816\n",
      "H         0.47549        0.43131       -1.44989\n",
      "H         2.38131       -0.53852        0.76687\n",
      "H         2.81691        0.26094       -0.84850\n"
     ]
    }
   ],
   "source": [
    "%%bash\n",
    "#To start, you'll need a file containing the geometry of ground state (aka, at the Franck-Condon point). This is \n",
    "#to be our starting geometry.\n",
    "cat base_geometries/original_cartesian_coordinates/fc.xyz"
   ]
  },
  {
   "cell_type": "code",
   "execution_count": 7,
   "metadata": {},
   "outputs": [
    {
     "data": {
      "text/html": [
       "<img src=\"base_geometries/original_cartesian_coordinates/fc.gif\">"
      ],
      "text/plain": [
       "<IPython.core.display.HTML object>"
      ]
     },
     "execution_count": 7,
     "metadata": {},
     "output_type": "execute_result"
    }
   ],
   "source": [
    "#Here's a gif of the molecule's FC geometry\n",
    "from IPython.display import HTML\n",
    "HTML('<img src=\"base_geometries/original_cartesian_coordinates/fc.gif\">')"
   ]
  },
  {
   "cell_type": "code",
   "execution_count": 11,
   "metadata": {},
   "outputs": [
    {
     "name": "stdout",
     "output_type": "stream",
     "text": [
      "10\n",
      "\n",
      "C    0.0099793130   -0.0426199469    0.0334010820\n",
      "C    1.4861157025   -0.0976854547    0.0762123373\n",
      "C    2.2613530886    1.0972557235   -0.1077587602\n",
      "C    2.8086804038    0.9763007590    1.2397385526\n",
      "H   -0.4698842455    0.3640063373   -0.8342116499\n",
      "H   -0.5810457210   -0.2205813910    0.9080009880\n",
      "H    1.9848176513   -1.0325999267    0.2159134468\n",
      "H    1.8101598372    2.0061670885   -0.4459653405\n",
      "H    3.5192864494    0.2117836737    1.4794448263\n",
      "H    2.4257596824    1.5802733808    2.0391556726\n"
     ]
    }
   ],
   "source": [
    "%%bash\n",
    "#We'll also need a target geometry. For this demo, we'll use the transoid conical intersection.\n",
    "cat base_geometries/original_cartesian_coordinates/Transoid.xyz"
   ]
  },
  {
   "cell_type": "code",
   "execution_count": 12,
   "metadata": {},
   "outputs": [
    {
     "data": {
      "text/html": [
       "<img src=\"base_geometries/original_cartesian_coordinates/Transoid.gif\">"
      ],
      "text/plain": [
       "<IPython.core.display.HTML object>"
      ]
     },
     "execution_count": 12,
     "metadata": {},
     "output_type": "execute_result"
    }
   ],
   "source": [
    "#Here's a gif of the molecule's transoid geometry\n",
    "from IPython.display import HTML\n",
    "HTML('<img src=\"base_geometries/original_cartesian_coordinates/Transoid.gif\">')"
   ]
  },
  {
   "cell_type": "markdown",
   "metadata": {},
   "source": [
    "The purpose of the interpolator being demonstrated in this notebook is to make intermediate geometries between the starting and target geometries. It achieves this by calculating all the necessary bond lengths and angles, and adjusting them in a series of equally spaced steps. There is no calculation of interatomic forces or any other quantum mechanics-driven processes; it's simply a a series of equally spaced changes in bond lengths and angles. This allows us to make an energy profile of this transition with a comptational chemistry process such as Hartree-Fock, so we can calculate the energetic barrier.\n",
    "\n",
    "Before the iterations can be made, the two geometries must be converted into internal coordinates (a.k.a. a z-matrix), which are similar to spherical coordinates. Let's convert the starting geometry:"
   ]
  },
  {
   "cell_type": "code",
   "execution_count": 13,
   "metadata": {},
   "outputs": [
    {
     "name": "stdout",
     "output_type": "stream",
     "text": [
      "10\n",
      "fc\n",
      "C   \n",
      "C 1 1.4355747579628164   \n",
      "C 2 1.4406953363914246 1 126.02257190901  \n",
      "C 3 1.3377754148211873 2 123.15814650033929 1 -175.15044892824105  \n",
      "H 1 1.0830537173196906 2 120.51478314579748 3 1.5635149724705946  \n",
      "H 1 1.0832567257118693 2 119.55027241625876 3 176.5538262209224  \n",
      "H 2 1.0881488639427972 3 117.89328850511798 1 179.07511540782772  \n",
      "H 3 1.0875106532351762 2 117.342676102004 4 179.81732309412024  \n",
      "H 4 1.08518001737039 3 122.18244855414952 2 0.3502210410905301  \n",
      "H 4 1.0853747429344394 3 120.4539422915961 2 179.75410180088488  \n"
     ]
    }
   ],
   "source": [
    "%%bash\n",
    "python z_matrix_maker.py base_geometries/original_cartesian_coordinates/fc.xyz\n",
    "#This creates a z-matrix for the starting geometry and places it in the results folder.\n",
    "cat results/fc.z"
   ]
  },
  {
   "cell_type": "markdown",
   "metadata": {},
   "source": [
    " [Wikipedia has a good in depth explanation of the z-matrix format](https://en.wikipedia.org/wiki/Z-matrix_(chemistry)). It is quite similar to normal spherical r, &theta;, &phi; coordinates. \n",
    "A shorter explanation: the first column are bond lengths (a line, so between 2 atoms), the second column are bond angles (between 3 atoms), and the third column are dihedral angles between two different planes made by 4 atoms (each plane shares two points; so for example, the angle between plane made by atoms A, B and C, and the plane made by atoms B, C, and D). You may notice the 1st, 2nd, and 3rd atom have incomplete rows; this is because these atoms are used to generate the coordinate system itself. The first atom establishes the origin, so it needs no data at all. The second atom establishes the X axis, so it needs one datum; a length (which becomes a unit vector). The third atom establishes the Y axis, so it needs a length and an angle to the previous vector. After that, all the atoms need three data points to establish their length, polar, and azimuthal angles (in z-matrix format, these are bond lengths, bond angles, and dihedral angles respectively).\n",
    "\n",
    "The calculations of the lengths and angles themselves are fairly trivial if you are familiar with trigonometry/basic vector algebra, so I won't write an explanation here."
   ]
  },
  {
   "cell_type": "code",
   "execution_count": 14,
   "metadata": {
    "scrolled": true
   },
   "outputs": [
    {
     "name": "stdout",
     "output_type": "stream",
     "text": [
      "10\n",
      "Transoid\n",
      "C   \n",
      "C 1 1.4777833583227715   \n",
      "C 2 1.4362182246721835 1 120.29564863536793  \n",
      "C 3 1.4594335549809925 2 90.87130612858174 1 -117.36025226594555  \n",
      "H 1 1.0716183193346236 2 119.00515688767904 3 -55.99590569827763  \n",
      "H 1 1.0704699257690835 2 121.4422039841109 3 112.15880495459534  \n",
      "H 2 1.0687773873391442 3 119.51661583278056 1 -178.2181103776497  \n",
      "H 3 1.069616244497664 2 121.31953530334093 4 128.22015245392652  \n",
      "H 4 1.0709371706174067 3 120.97541387529039 2 -71.48145498938116  \n",
      "H 4 1.0726038124631838 3 120.50333290460243 2 101.5576738530574  \n"
     ]
    }
   ],
   "source": [
    "%%bash\n",
    "#Let's also do this for our target geometry\n",
    "python z_matrix_maker.py base_geometries/original_cartesian_coordinates/Transoid.xyz\n",
    "cat results/Transoid.z"
   ]
  },
  {
   "cell_type": "markdown",
   "metadata": {},
   "source": [
    "Comparing the two, you can confirm what the two above visuals show: The ground state geometry has all the carbons almost planar (all the dihedral angles are near 0, or near 180 which is the same thing), but in the target geometry, one carbon has twisted out of the plane by about 60&deg;."
   ]
  },
  {
   "cell_type": "code",
   "execution_count": 15,
   "metadata": {},
   "outputs": [],
   "source": [
    "%%bash\n",
    "#Now let's move those to the correct place, so the iterator knows where to find them later.\n",
    "mv results/fc.z base_geometries/fc.z\n",
    "mv results/Transoid.z base_geometries/Transoid.z"
   ]
  },
  {
   "cell_type": "markdown",
   "metadata": {},
   "source": [
    "The iterator will rotate the angles from the starting geometry to the final geometry. Note, however, that since we want physically meaningful results, it doesn't make sense to rotate \"the long way\". Since low-energy processes are more physically likely to occur, an atom is more likely to rotate 10&deg; counterclockwise than it is to rotate 350&deg; clockwise. In the above geometries, there is one of these cases: See the dihedral angle for third Hydrogen (line 9) is going from roughly 179.1&deg; to -178.2&deg;. That's a gap of about 358 degrees, but really, you could just rotate 2 degrees the other way instead. This is achieved in the angle_fixer.py script which detects these cases and will add or subtract a full revolution from the angles so you are never going the \"long way\"."
   ]
  },
  {
   "cell_type": "code",
   "execution_count": 16,
   "metadata": {},
   "outputs": [
    {
     "name": "stdout",
     "output_type": "stream",
     "text": [
      "Fixing angles for Transoid.z ...\n",
      "10\n",
      "fc\n",
      "C   \n",
      "C 1 1.4355747579628164   \n",
      "C 2 1.4406953363914246 1 126.02257190901  \n",
      "C 3 1.3377754148211873 2 123.15814650033929 1 -175.15044892824105  \n",
      "H 1 1.0830537173196906 2 120.51478314579748 3 1.5635149724705946  \n",
      "H 1 1.0832567257118693 2 119.55027241625876 3 176.5538262209224  \n",
      "H 2 1.0881488639427972 3 117.89328850511798 1  -180.924884592\n",
      "H 3 1.0875106532351762 2 117.342676102004 4 179.81732309412024  \n",
      "H 4 1.08518001737039 3 122.18244855414952 2 0.3502210410905301  \n",
      "H 4 1.0853747429344394 3 120.4539422915961 2 179.75410180088488  \n",
      "10\n",
      "Transoid\n",
      "C   \n",
      "C 1 1.4777833583227715   \n",
      "C 2 1.4362182246721835 1 120.29564863536793  \n",
      "C 3 1.4594335549809925 2 90.87130612858174 1 -117.36025226594555  \n",
      "H 1 1.0716183193346236 2 119.00515688767904 3 -55.99590569827763  \n",
      "H 1 1.0704699257690835 2 121.4422039841109 3 112.15880495459534  \n",
      "H 2 1.0687773873391442 3 119.51661583278056 1 -178.2181103776497  \n",
      "H 3 1.069616244497664 2 121.31953530334093 4 128.22015245392652  \n",
      "H 4 1.0709371706174067 3 120.97541387529039 2 -71.48145498938116  \n",
      "H 4 1.0726038124631838 3 120.50333290460243 2 101.5576738530574  \n"
     ]
    }
   ],
   "source": [
    "%%bash\n",
    "python angle_fixer.py Transoid.z\n",
    "cat base_geometries/fc.z\n",
    "cat base_geometries/Transoid.z"
   ]
  },
  {
   "cell_type": "markdown",
   "metadata": {},
   "source": [
    "Note that dihedral hydrogen angle we were talking about before has changed to about -180.92&deg;, so a mot"
   ]
  },
  {
   "cell_type": "code",
   "execution_count": 17,
   "metadata": {},
   "outputs": [
    {
     "name": "stdout",
     "output_type": "stream",
     "text": [
      "Iterating Transoid.z...\n"
     ]
    },
    {
     "name": "stderr",
     "output_type": "stream",
     "text": [
      "\r",
      "                                                                                \r",
      "\r",
      "N/A% (0 of 101) |                         | Elapsed Time: 0:00:00 ETA:  --:--:--\r",
      "                                                                                \r",
      "\r",
      "100% (101 of 101) |#######################| Elapsed Time: 0:00:00 Time:  0:00:00\n"
     ]
    }
   ],
   "source": [
    "%%bash\n",
    "#Now we can run the iterator itself\n",
    "python iteration_maker.py Transoid.z"
   ]
  },
  {
   "cell_type": "markdown",
   "metadata": {},
   "source": [
    "The iteratior has placed our interpolated frames in iterations/Transoid. They're still in the z-matrix format, however. To do useful analysis, we convert them back to xyz format."
   ]
  },
  {
   "cell_type": "code",
   "execution_count": 18,
   "metadata": {},
   "outputs": [
    {
     "name": "stdout",
     "output_type": "stream",
     "text": [
      "Converting Transoid frames from z to xyz...\n"
     ]
    },
    {
     "name": "stderr",
     "output_type": "stream",
     "text": [
      "\r",
      "                                                                                \r",
      "\r",
      "N/A% (0 of 101) |                         | Elapsed Time: 0:00:00 ETA:  --:--:--\r",
      "                                                                                \r",
      "\r",
      " 30% (31 of 101) |#######                 | Elapsed Time: 0:00:00 ETA:  00:00:00\r",
      "                                                                                \r",
      "\r",
      " 60% (61 of 101) |##############          | Elapsed Time: 0:00:00 ETA:   0:00:00\r",
      "                                                                                \r",
      "\r",
      " 92% (93 of 101) |######################  | Elapsed Time: 0:00:00 ETA:   0:00:00\r",
      "                                                                                \r",
      "\r",
      "100% (101 of 101) |#######################| Elapsed Time: 0:00:00 Time:  0:00:00\n"
     ]
    }
   ],
   "source": [
    "%%bash\n",
    "python mass_z_to_xyz.py Transoid.z"
   ]
  },
  {
   "cell_type": "markdown",
   "metadata": {},
   "source": [
    "Now the interpolated frames are in a usable xyz format, in the same location where the z-matrices were stored. We can concatenate them together for an animation using a chemistry tool such as Avogadro."
   ]
  },
  {
   "cell_type": "code",
   "execution_count": 19,
   "metadata": {},
   "outputs": [],
   "source": [
    "%%bash\n",
    "for frame in {0..100}\n",
    "do\n",
    "cat iterations/Transoid/$frame.xyz >> final_animations/Transoid_all_frames.xyz\n",
    "done"
   ]
  },
  {
   "cell_type": "markdown",
   "metadata": {},
   "source": [
    "This is the last step in the normal process (which is contained in butadiene_iterator.sh for convenience). A gif of the final animation can be seen below."
   ]
  },
  {
   "cell_type": "code",
   "execution_count": 20,
   "metadata": {},
   "outputs": [
    {
     "data": {
      "text/html": [
       "<img src=\"base_geometries/original_cartesian_coordinates/transoid_transition_frames.gif\">"
      ],
      "text/plain": [
       "<IPython.core.display.HTML object>"
      ]
     },
     "execution_count": 20,
     "metadata": {},
     "output_type": "execute_result"
    }
   ],
   "source": [
    "from IPython.display import HTML\n",
    "HTML('<img src=\"base_geometries/original_cartesian_coordinates/transoid_transition_frames.gif\">')"
   ]
  },
  {
   "cell_type": "code",
   "execution_count": null,
   "metadata": {},
   "outputs": [],
   "source": []
  }
 ],
 "metadata": {
  "kernelspec": {
   "display_name": "Python 2",
   "language": "python",
   "name": "python2"
  },
  "language_info": {
   "codemirror_mode": {
    "name": "ipython",
    "version": 2
   },
   "file_extension": ".py",
   "mimetype": "text/x-python",
   "name": "python",
   "nbconvert_exporter": "python",
   "pygments_lexer": "ipython2",
   "version": "2.7.16"
  }
 },
 "nbformat": 4,
 "nbformat_minor": 2
}
