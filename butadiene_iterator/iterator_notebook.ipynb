{
 "cells": [
  {
   "cell_type": "code",
   "execution_count": 1,
   "metadata": {},
   "outputs": [
    {
     "name": "stdout",
     "output_type": "stream",
     "text": [
      "10\n",
      "\n",
      "C        -1.71206       -0.32706        0.11160\n",
      "C        -0.30557       -0.48176        0.35394\n",
      "C         0.75752       -0.01615       -0.49967\n",
      "C         2.05157       -0.10807       -0.17313\n",
      "H        -2.06407        0.20018       -0.76653\n",
      "H        -2.42291       -0.66969        0.85372\n",
      "H        -0.03213       -0.98685        1.27816\n",
      "H         0.47549        0.43131       -1.44989\n",
      "H         2.38131       -0.53852        0.76687\n",
      "H         2.81691        0.26094       -0.84850\n"
     ]
    }
   ],
   "source": [
    "%%bash\n",
    "#To start, you'll need a file containing the geometry of ground state (aka, at the Franck-Condon point)\n",
    "cat base_geometries/original_cartesian_coordinates/fc.xyz\n"
   ]
  },
  {
   "cell_type": "code",
   "execution_count": 2,
   "metadata": {},
   "outputs": [
    {
     "data": {
      "text/html": [
       "<img src=\"base_geometries/original_cartesian_coordinates/fc.gif\">"
      ],
      "text/plain": [
       "<IPython.core.display.HTML object>"
      ]
     },
     "execution_count": 2,
     "metadata": {},
     "output_type": "execute_result"
    }
   ],
   "source": [
    "#Here's a gif of the molecule's FC geometry\n",
    "from IPython.display import HTML\n",
    "HTML('<img src=\"base_geometries/original_cartesian_coordinates/fc.gif\">')"
   ]
  },
  {
   "cell_type": "code",
   "execution_count": 1,
   "metadata": {},
   "outputs": [
    {
     "name": "stdout",
     "output_type": "stream",
     "text": [
      "10\n",
      "\n",
      "C    0.0099793130   -0.0426199469    0.0334010820\n",
      "C    1.4861157025   -0.0976854547    0.0762123373\n",
      "C    2.2613530886    1.0972557235   -0.1077587602\n",
      "C    2.8086804038    0.9763007590    1.2397385526\n",
      "H   -0.4698842455    0.3640063373   -0.8342116499\n",
      "H   -0.5810457210   -0.2205813910    0.9080009880\n",
      "H    1.9848176513   -1.0325999267    0.2159134468\n",
      "H    1.8101598372    2.0061670885   -0.4459653405\n",
      "H    2.4257596824    1.5802733808    2.0391556726\n",
      "H    3.5192864494    0.2117836737    1.4794448263\n"
     ]
    }
   ],
   "source": [
    "%%bash\n",
    "#We'll also need a target geometry of the same molecule. For this demo, we'll use the transoid conical intersection.\n",
    "cat base_geometries/original_cartesian_coordinates/Transoid.xyz"
   ]
  },
  {
   "cell_type": "code",
   "execution_count": 4,
   "metadata": {},
   "outputs": [
    {
     "data": {
      "text/html": [
       "<img src=\"base_geometries/original_cartesian_coordinates/Transoid.gif\">"
      ],
      "text/plain": [
       "<IPython.core.display.HTML object>"
      ]
     },
     "execution_count": 4,
     "metadata": {},
     "output_type": "execute_result"
    }
   ],
   "source": [
    "#Here's a gif of the molecule's transoid geometry\n",
    "from IPython.display import HTML\n",
    "HTML('<img src=\"base_geometries/original_cartesian_coordinates/Transoid.gif\">')"
   ]
  },
  {
   "cell_type": "code",
   "execution_count": null,
   "metadata": {},
   "outputs": [],
   "source": []
  }
 ],
 "metadata": {
  "kernelspec": {
   "display_name": "Python 2",
   "language": "python",
   "name": "python2"
  },
  "language_info": {
   "codemirror_mode": {
    "name": "ipython",
    "version": 2
   },
   "file_extension": ".py",
   "mimetype": "text/x-python",
   "name": "python",
   "nbconvert_exporter": "python",
   "pygments_lexer": "ipython2",
   "version": "2.7.12"
  }
 },
 "nbformat": 4,
 "nbformat_minor": 2
}
